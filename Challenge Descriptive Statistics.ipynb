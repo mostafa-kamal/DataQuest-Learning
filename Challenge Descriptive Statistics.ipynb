{
 "cells": [
  {
   "cell_type": "code",
   "execution_count": 3,
   "metadata": {
    "collapsed": false
   },
   "outputs": [
    {
     "data": {
      "text/html": [
       "<div>\n",
       "<table border=\"1\" class=\"dataframe\">\n",
       "  <thead>\n",
       "    <tr style=\"text-align: right;\">\n",
       "      <th></th>\n",
       "      <th>FILM</th>\n",
       "      <th>RottenTomatoes</th>\n",
       "      <th>RottenTomatoes_User</th>\n",
       "      <th>Metacritic</th>\n",
       "      <th>Metacritic_User</th>\n",
       "      <th>IMDB</th>\n",
       "      <th>Fandango_Stars</th>\n",
       "      <th>Fandango_Ratingvalue</th>\n",
       "      <th>RT_norm</th>\n",
       "      <th>RT_user_norm</th>\n",
       "      <th>...</th>\n",
       "      <th>IMDB_norm</th>\n",
       "      <th>RT_norm_round</th>\n",
       "      <th>RT_user_norm_round</th>\n",
       "      <th>Metacritic_norm_round</th>\n",
       "      <th>Metacritic_user_norm_round</th>\n",
       "      <th>IMDB_norm_round</th>\n",
       "      <th>Metacritic_user_vote_count</th>\n",
       "      <th>IMDB_user_vote_count</th>\n",
       "      <th>Fandango_votes</th>\n",
       "      <th>Fandango_Difference</th>\n",
       "    </tr>\n",
       "  </thead>\n",
       "  <tbody>\n",
       "    <tr>\n",
       "      <th>0</th>\n",
       "      <td>Avengers: Age of Ultron (2015)</td>\n",
       "      <td>74</td>\n",
       "      <td>86</td>\n",
       "      <td>66</td>\n",
       "      <td>7.1</td>\n",
       "      <td>7.8</td>\n",
       "      <td>5.0</td>\n",
       "      <td>4.5</td>\n",
       "      <td>3.70</td>\n",
       "      <td>4.3</td>\n",
       "      <td>...</td>\n",
       "      <td>3.90</td>\n",
       "      <td>3.5</td>\n",
       "      <td>4.5</td>\n",
       "      <td>3.5</td>\n",
       "      <td>3.5</td>\n",
       "      <td>4.0</td>\n",
       "      <td>1330</td>\n",
       "      <td>271107</td>\n",
       "      <td>14846</td>\n",
       "      <td>0.5</td>\n",
       "    </tr>\n",
       "    <tr>\n",
       "      <th>1</th>\n",
       "      <td>Cinderella (2015)</td>\n",
       "      <td>85</td>\n",
       "      <td>80</td>\n",
       "      <td>67</td>\n",
       "      <td>7.5</td>\n",
       "      <td>7.1</td>\n",
       "      <td>5.0</td>\n",
       "      <td>4.5</td>\n",
       "      <td>4.25</td>\n",
       "      <td>4.0</td>\n",
       "      <td>...</td>\n",
       "      <td>3.55</td>\n",
       "      <td>4.5</td>\n",
       "      <td>4.0</td>\n",
       "      <td>3.5</td>\n",
       "      <td>4.0</td>\n",
       "      <td>3.5</td>\n",
       "      <td>249</td>\n",
       "      <td>65709</td>\n",
       "      <td>12640</td>\n",
       "      <td>0.5</td>\n",
       "    </tr>\n",
       "  </tbody>\n",
       "</table>\n",
       "<p>2 rows × 22 columns</p>\n",
       "</div>"
      ],
      "text/plain": [
       "                             FILM  RottenTomatoes  RottenTomatoes_User  \\\n",
       "0  Avengers: Age of Ultron (2015)              74                   86   \n",
       "1               Cinderella (2015)              85                   80   \n",
       "\n",
       "   Metacritic  Metacritic_User  IMDB  Fandango_Stars  Fandango_Ratingvalue  \\\n",
       "0          66              7.1   7.8             5.0                   4.5   \n",
       "1          67              7.5   7.1             5.0                   4.5   \n",
       "\n",
       "   RT_norm  RT_user_norm         ...           IMDB_norm  RT_norm_round  \\\n",
       "0     3.70           4.3         ...                3.90            3.5   \n",
       "1     4.25           4.0         ...                3.55            4.5   \n",
       "\n",
       "   RT_user_norm_round  Metacritic_norm_round  Metacritic_user_norm_round  \\\n",
       "0                 4.5                    3.5                         3.5   \n",
       "1                 4.0                    3.5                         4.0   \n",
       "\n",
       "   IMDB_norm_round  Metacritic_user_vote_count  IMDB_user_vote_count  \\\n",
       "0              4.0                        1330                271107   \n",
       "1              3.5                         249                 65709   \n",
       "\n",
       "   Fandango_votes  Fandango_Difference  \n",
       "0           14846                  0.5  \n",
       "1           12640                  0.5  \n",
       "\n",
       "[2 rows x 22 columns]"
      ]
     },
     "execution_count": 3,
     "metadata": {},
     "output_type": "execute_result"
    }
   ],
   "source": [
    "import matplotlib.pyplot as plt\n",
    "import pandas as pd\n",
    "import numpy as np\n",
    "\n",
    "movie_reviews = pd.read_csv(r'E:\\DQ\\data\\fandango\\fandango_score_comparison.csv')\n",
    "movie_reviews[:2]"
   ]
  },
  {
   "cell_type": "code",
   "execution_count": 22,
   "metadata": {
    "collapsed": false
   },
   "outputs": [
    {
     "data": {
      "image/png": "[encoded data removed]",
      "text/plain": [
       "<matplotlib.figure.Figure at 0x52fa35ea20>"
      ]
     },
     "metadata": {},
     "output_type": "display_data"
    }
   ],
   "source": [
    "## looking at the histogram of the user ratings over 4 sites\n",
    "\n",
    "fig = plt.figure(figsize=(5,12))\n",
    "ax1 = fig.add_subplot(4,1,1)\n",
    "ax2 = fig.add_subplot(4,1,2)\n",
    "ax3 = fig.add_subplot(4,1,3)\n",
    "ax4 = fig.add_subplot(4,1,4)\n",
    "\n",
    "ax1.set_xlim(0,5.0)\n",
    "ax2.set_xlim(0,5.0)\n",
    "ax3.set_xlim(0,5.0)\n",
    "ax4.set_xlim(0,5.0)\n",
    "\n",
    "movie_reviews[\"RT_user_norm\"].hist(ax=ax1)\n",
    "movie_reviews[\"Metacritic_user_nom\"].hist(ax=ax2)\n",
    "movie_reviews[\"Fandango_Ratingvalue\"].hist(ax=ax3)\n",
    "movie_reviews[\"IMDB_norm\"].hist(ax=ax4)\n",
    "plt.show()"
   ]
  },
  {
   "cell_type": "code",
   "execution_count": 23,
   "metadata": {
    "collapsed": false
   },
   "outputs": [
    {
     "data": {
      "image/png": "[encoded data removed]",
      "text/plain": [
       "<matplotlib.figure.Figure at 0x52fa244c50>"
      ]
     },
     "metadata": {},
     "output_type": "display_data"
    }
   ],
   "source": [
    "## improvement over last block\n",
    "column_list = ['RT_user_norm','Metacritic_user_nom','Fandango_Ratingvalue','IMDB_norm']\n",
    "fig = plt.figure(figsize=(5,12))\n",
    "\n",
    "for i in range(0,4):\n",
    "    ax = fig.add_subplot(4,1,i+1)\n",
    "    ax.set_xlim(0,5.0)\n",
    "    movie_reviews[column_list[i]].hist(ax=ax)\n",
    "\n",
    "plt.show()\n"
   ]
  },
  {
   "cell_type": "code",
   "execution_count": 4,
   "metadata": {
    "collapsed": false
   },
   "outputs": [
    {
     "name": "stdout",
     "output_type": "stream",
     "text": [
      "3.19383561644\n",
      "3.2595890411\n",
      "3.84520547945\n",
      "3.36849315068\n"
     ]
    }
   ],
   "source": [
    "# Calculating Mean\n",
    "column_list = ['RT_user_norm','Metacritic_user_nom','Fandango_Ratingvalue','IMDB_norm']\n",
    "user_reviews = movie_reviews[column_list]\n",
    "def calc_mean(pd_series):\n",
    "    return pd_series.mean()\n",
    "\n",
    "user_reviews_mean = user_reviews.apply(calc_mean)\n",
    "\n",
    "rt_mean = user_reviews_mean[0]\n",
    "mc_mean = user_reviews_mean[1]\n",
    "fg_mean = user_reviews_mean[2]\n",
    "id_mean = user_reviews_mean[3]\n",
    "\n",
    "print(rt_mean)\n",
    "print(mc_mean)\n",
    "print(fg_mean)\n",
    "print(id_mean)"
   ]
  },
  {
   "cell_type": "code",
   "execution_count": 54,
   "metadata": {
    "collapsed": false
   },
   "outputs": [
    {
     "ename": "AttributeError",
     "evalue": "(\"'numpy.ndarray' object has no attribute 'values'\", 'occurred at index RT_user_norm')",
     "output_type": "error",
     "traceback": [
      "\u001b[0;31m---------------------------------------------------------------------------\u001b[0m",
      "\u001b[0;31mAttributeError\u001b[0m                            Traceback (most recent call last)",
      "\u001b[0;32m<ipython-input-54-b12e025e16fc>\u001b[0m in \u001b[0;36m<module>\u001b[0;34m()\u001b[0m\n\u001b[1;32m     11\u001b[0m     \u001b[1;32mreturn\u001b[0m \u001b[0msum\u001b[0m\u001b[1;33m(\u001b[0m\u001b[1;33m[\u001b[0m\u001b[1;33m(\u001b[0m\u001b[0mxi\u001b[0m \u001b[1;33m-\u001b[0m \u001b[0mmean\u001b[0m\u001b[1;33m)\u001b[0m\u001b[1;33m**\u001b[0m\u001b[1;36m2\u001b[0m \u001b[1;32mfor\u001b[0m \u001b[0mxi\u001b[0m \u001b[1;32min\u001b[0m \u001b[0mvvals\u001b[0m\u001b[1;33m]\u001b[0m\u001b[1;33m)\u001b[0m \u001b[1;33m/\u001b[0m \u001b[1;33m(\u001b[0m\u001b[0mlen\u001b[0m\u001b[1;33m(\u001b[0m\u001b[0mvvals\u001b[0m\u001b[1;33m)\u001b[0m \u001b[1;33m-\u001b[0m \u001b[1;36m1\u001b[0m\u001b[1;33m)\u001b[0m\u001b[1;33m\u001b[0m\u001b[0m\n\u001b[1;32m     12\u001b[0m \u001b[1;33m\u001b[0m\u001b[0m\n\u001b[0;32m---> 13\u001b[0;31m \u001b[0muser_reviews_var\u001b[0m \u001b[1;33m=\u001b[0m \u001b[0muser_reviews\u001b[0m\u001b[1;33m.\u001b[0m\u001b[0mapply\u001b[0m\u001b[1;33m(\u001b[0m\u001b[0mcalc_variance\u001b[0m\u001b[1;33m)\u001b[0m\u001b[1;33m\u001b[0m\u001b[0m\n\u001b[0m\u001b[1;32m     14\u001b[0m \u001b[0mrt_var\u001b[0m \u001b[1;33m=\u001b[0m \u001b[0muser_reviews_var\u001b[0m\u001b[1;33m[\u001b[0m\u001b[1;36m0\u001b[0m\u001b[1;33m]\u001b[0m\u001b[1;33m\u001b[0m\u001b[0m\n\u001b[1;32m     15\u001b[0m \u001b[0mrt_stdev\u001b[0m \u001b[1;33m=\u001b[0m \u001b[0mrt_var\u001b[0m\u001b[1;33m**\u001b[0m\u001b[1;36m.5\u001b[0m\u001b[1;33m\u001b[0m\u001b[0m\n",
      "\u001b[0;32mC:\\Users\\Dell\\Anaconda3\\lib\\site-packages\\pandas\\core\\frame.py\u001b[0m in \u001b[0;36mapply\u001b[0;34m(self, func, axis, broadcast, raw, reduce, args, **kwds)\u001b[0m\n\u001b[1;32m   4059\u001b[0m                     \u001b[1;32mif\u001b[0m \u001b[0mreduce\u001b[0m \u001b[1;32mis\u001b[0m \u001b[1;32mNone\u001b[0m\u001b[1;33m:\u001b[0m\u001b[1;33m\u001b[0m\u001b[0m\n\u001b[1;32m   4060\u001b[0m                         \u001b[0mreduce\u001b[0m \u001b[1;33m=\u001b[0m \u001b[1;32mTrue\u001b[0m\u001b[1;33m\u001b[0m\u001b[0m\n\u001b[0;32m-> 4061\u001b[0;31m                     \u001b[1;32mreturn\u001b[0m \u001b[0mself\u001b[0m\u001b[1;33m.\u001b[0m\u001b[0m_apply_standard\u001b[0m\u001b[1;33m(\u001b[0m\u001b[0mf\u001b[0m\u001b[1;33m,\u001b[0m \u001b[0maxis\u001b[0m\u001b[1;33m,\u001b[0m \u001b[0mreduce\u001b[0m\u001b[1;33m=\u001b[0m\u001b[0mreduce\u001b[0m\u001b[1;33m)\u001b[0m\u001b[1;33m\u001b[0m\u001b[0m\n\u001b[0m\u001b[1;32m   4062\u001b[0m             \u001b[1;32melse\u001b[0m\u001b[1;33m:\u001b[0m\u001b[1;33m\u001b[0m\u001b[0m\n\u001b[1;32m   4063\u001b[0m                 \u001b[1;32mreturn\u001b[0m \u001b[0mself\u001b[0m\u001b[1;33m.\u001b[0m\u001b[0m_apply_broadcast\u001b[0m\u001b[1;33m(\u001b[0m\u001b[0mf\u001b[0m\u001b[1;33m,\u001b[0m \u001b[0maxis\u001b[0m\u001b[1;33m)\u001b[0m\u001b[1;33m\u001b[0m\u001b[0m\n",
      "\u001b[0;32mC:\\Users\\Dell\\Anaconda3\\lib\\site-packages\\pandas\\core\\frame.py\u001b[0m in \u001b[0;36m_apply_standard\u001b[0;34m(self, func, axis, ignore_failures, reduce)\u001b[0m\n\u001b[1;32m   4155\u001b[0m             \u001b[1;32mtry\u001b[0m\u001b[1;33m:\u001b[0m\u001b[1;33m\u001b[0m\u001b[0m\n\u001b[1;32m   4156\u001b[0m                 \u001b[1;32mfor\u001b[0m \u001b[0mi\u001b[0m\u001b[1;33m,\u001b[0m \u001b[0mv\u001b[0m \u001b[1;32min\u001b[0m \u001b[0menumerate\u001b[0m\u001b[1;33m(\u001b[0m\u001b[0mseries_gen\u001b[0m\u001b[1;33m)\u001b[0m\u001b[1;33m:\u001b[0m\u001b[1;33m\u001b[0m\u001b[0m\n\u001b[0;32m-> 4157\u001b[0;31m                     \u001b[0mresults\u001b[0m\u001b[1;33m[\u001b[0m\u001b[0mi\u001b[0m\u001b[1;33m]\u001b[0m \u001b[1;33m=\u001b[0m \u001b[0mfunc\u001b[0m\u001b[1;33m(\u001b[0m\u001b[0mv\u001b[0m\u001b[1;33m)\u001b[0m\u001b[1;33m\u001b[0m\u001b[0m\n\u001b[0m\u001b[1;32m   4158\u001b[0m                     \u001b[0mkeys\u001b[0m\u001b[1;33m.\u001b[0m\u001b[0mappend\u001b[0m\u001b[1;33m(\u001b[0m\u001b[0mv\u001b[0m\u001b[1;33m.\u001b[0m\u001b[0mname\u001b[0m\u001b[1;33m)\u001b[0m\u001b[1;33m\u001b[0m\u001b[0m\n\u001b[1;32m   4159\u001b[0m             \u001b[1;32mexcept\u001b[0m \u001b[0mException\u001b[0m \u001b[1;32mas\u001b[0m \u001b[0me\u001b[0m\u001b[1;33m:\u001b[0m\u001b[1;33m\u001b[0m\u001b[0m\n",
      "\u001b[0;32m<ipython-input-54-b12e025e16fc>\u001b[0m in \u001b[0;36mcalc_variance\u001b[0;34m(series)\u001b[0m\n\u001b[1;32m      8\u001b[0m \u001b[1;32mdef\u001b[0m \u001b[0mcalc_variance\u001b[0m\u001b[1;33m(\u001b[0m\u001b[0mseries\u001b[0m\u001b[1;33m)\u001b[0m\u001b[1;33m:\u001b[0m\u001b[1;33m\u001b[0m\u001b[0m\n\u001b[1;32m      9\u001b[0m     \u001b[0mvvals\u001b[0m \u001b[1;33m=\u001b[0m \u001b[0mseries\u001b[0m\u001b[1;33m.\u001b[0m\u001b[0mvalues\u001b[0m\u001b[1;33m\u001b[0m\u001b[0m\n\u001b[0;32m---> 10\u001b[0;31m     \u001b[0mmean\u001b[0m \u001b[1;33m=\u001b[0m \u001b[0mcalc_mean\u001b[0m\u001b[1;33m(\u001b[0m\u001b[0mvvals\u001b[0m\u001b[1;33m)\u001b[0m\u001b[1;33m\u001b[0m\u001b[0m\n\u001b[0m\u001b[1;32m     11\u001b[0m     \u001b[1;32mreturn\u001b[0m \u001b[0msum\u001b[0m\u001b[1;33m(\u001b[0m\u001b[1;33m[\u001b[0m\u001b[1;33m(\u001b[0m\u001b[0mxi\u001b[0m \u001b[1;33m-\u001b[0m \u001b[0mmean\u001b[0m\u001b[1;33m)\u001b[0m\u001b[1;33m**\u001b[0m\u001b[1;36m2\u001b[0m \u001b[1;32mfor\u001b[0m \u001b[0mxi\u001b[0m \u001b[1;32min\u001b[0m \u001b[0mvvals\u001b[0m\u001b[1;33m]\u001b[0m\u001b[1;33m)\u001b[0m \u001b[1;33m/\u001b[0m \u001b[1;33m(\u001b[0m\u001b[0mlen\u001b[0m\u001b[1;33m(\u001b[0m\u001b[0mvvals\u001b[0m\u001b[1;33m)\u001b[0m \u001b[1;33m-\u001b[0m \u001b[1;36m1\u001b[0m\u001b[1;33m)\u001b[0m\u001b[1;33m\u001b[0m\u001b[0m\n\u001b[1;32m     12\u001b[0m \u001b[1;33m\u001b[0m\u001b[0m\n",
      "\u001b[0;32m<ipython-input-54-b12e025e16fc>\u001b[0m in \u001b[0;36mcalc_mean\u001b[0;34m(series)\u001b[0m\n\u001b[1;32m      2\u001b[0m \u001b[1;33m\u001b[0m\u001b[0m\n\u001b[1;32m      3\u001b[0m \u001b[1;32mdef\u001b[0m \u001b[0mcalc_mean\u001b[0m\u001b[1;33m(\u001b[0m\u001b[0mseries\u001b[0m\u001b[1;33m)\u001b[0m\u001b[1;33m:\u001b[0m\u001b[1;33m\u001b[0m\u001b[0m\n\u001b[0;32m----> 4\u001b[0;31m     \u001b[0mvals\u001b[0m \u001b[1;33m=\u001b[0m \u001b[0mseries\u001b[0m\u001b[1;33m.\u001b[0m\u001b[0mvalues\u001b[0m\u001b[1;33m\u001b[0m\u001b[0m\n\u001b[0m\u001b[1;32m      5\u001b[0m     \u001b[0mmean\u001b[0m \u001b[1;33m=\u001b[0m \u001b[0msum\u001b[0m\u001b[1;33m(\u001b[0m\u001b[0mvals\u001b[0m\u001b[1;33m)\u001b[0m \u001b[1;33m/\u001b[0m \u001b[0mlen\u001b[0m\u001b[1;33m(\u001b[0m\u001b[0mvals\u001b[0m\u001b[1;33m)\u001b[0m\u001b[1;33m\u001b[0m\u001b[0m\n\u001b[1;32m      6\u001b[0m     \u001b[1;32mreturn\u001b[0m \u001b[0mmean\u001b[0m\u001b[1;33m\u001b[0m\u001b[0m\n",
      "\u001b[0;31mAttributeError\u001b[0m: (\"'numpy.ndarray' object has no attribute 'values'\", 'occurred at index RT_user_norm')"
     ]
    }
   ],
   "source": [
    "# reviews variance and standard deviation\n",
    "\n",
    "def calc_mean(series):\n",
    "    vals = series.values\n",
    "    mean = sum(vals) / len(vals)\n",
    "    return mean\n",
    "\n",
    "def calc_variance(series):\n",
    "    vvals = series.values\n",
    "    mean = calc_mean(vvals)\n",
    "    return sum([(xi - mean)**2 for xi in vvals]) / (len(vvals) - 1)\n",
    "\n",
    "user_reviews_var = user_reviews.apply(calc_variance)\n",
    "rt_var = user_reviews_var[0]\n",
    "rt_stdev = rt_var**.5\n",
    "mc_var = user_reviews_var[0]\n",
    "mc_stdev = mc_var**.5\n",
    "fg_var = user_reviews_var[0]\n",
    "fg_stdev = fg_var**.5\n",
    "id_var = user_reviews_var[0]\n",
    "id_stdev = id_var**.5\n",
    "print(rt_var)\n",
    "print(rt_stdev)"
   ]
  },
  {
   "cell_type": "code",
   "execution_count": 57,
   "metadata": {
    "collapsed": false
   },
   "outputs": [
    {
     "name": "stdout",
     "output_type": "stream",
     "text": [
      "Rotten Tomatoes (variance): 0.995578438731\n",
      "Metacritic (variance): 0.566654625633\n",
      "Fandango (variance): 0.251107149559\n",
      "IMDB (variance): 0.228219647213\n",
      "Rotten Tomatoes (standard deviation): 0.997786770173\n",
      "Metacritic (standard deviation): 0.752764654878\n",
      "Fandango (standard deviation): 0.501105926486\n",
      "IMDB (standard deviation): 0.47772340032\n"
     ]
    }
   ],
   "source": [
    "def calc_mean(series):\n",
    "    vals = series.values\n",
    "    mean = sum(vals) / len(vals)\n",
    "    return mean\n",
    "def calc_variance(series):\n",
    "    mean = calc_mean(series)\n",
    "    squared_deviations = (series - mean)**2\n",
    "    mean_squared_deviations = calc_mean(squared_deviations)\n",
    "    return mean_squared_deviations\n",
    "\n",
    "columns = [\"RT_user_norm\", \"Metacritic_user_nom\", \"Fandango_Ratingvalue\", \"IMDB_norm\"]\n",
    "user_reviews = movie_reviews[columns]\n",
    "user_reviews_variances = user_reviews.apply(calc_variance)\n",
    "\n",
    "rt_var = user_reviews_variances[\"RT_user_norm\"]\n",
    "mc_var = user_reviews_variances[\"Metacritic_user_nom\"]\n",
    "fg_var = user_reviews_variances[\"Fandango_Ratingvalue\"]\n",
    "id_var = user_reviews_variances[\"IMDB_norm\"]\n",
    "\n",
    "rt_stdev = rt_var ** (1/2)\n",
    "mc_stdev = mc_var ** (1/2)\n",
    "fg_stdev = fg_var ** (1/2)\n",
    "id_stdev = id_var ** (1/2)\n",
    "\n",
    "print(\"Rotten Tomatoes (variance):\", rt_var)\n",
    "print(\"Metacritic (variance):\", mc_var)\n",
    "print(\"Fandango (variance):\", fg_var)\n",
    "print(\"IMDB (variance):\", id_var)\n",
    "\n",
    "print(\"Rotten Tomatoes (standard deviation):\", rt_stdev)\n",
    "print(\"Metacritic (standard deviation):\", mc_stdev)\n",
    "print(\"Fandango (standard deviation):\", fg_stdev)\n",
    "print(\"IMDB (standard deviation):\", id_stdev)"
   ]
  },
  {
   "cell_type": "code",
   "execution_count": 5,
   "metadata": {
    "collapsed": false
   },
   "outputs": [
    {
     "name": "stdout",
     "output_type": "stream",
     "text": [
      "0.995578438731\n",
      "0.997786770173\n"
     ]
    }
   ],
   "source": [
    "def calc_mean(series):\n",
    "    vals = series.values\n",
    "    mean = sum(vals) / len(vals)\n",
    "    return mean\n",
    "\n",
    "def calc_variance(series):\n",
    "    mean = calc_mean(series)\n",
    "    return sum([(xi - mean)**2 for xi in series]) / (len(series))\n",
    "\n",
    "user_reviews_var = user_reviews.apply(calc_variance)\n",
    "rt_var = user_reviews_var[0]\n",
    "rt_stdev = rt_var**.5\n",
    "mc_var = user_reviews_var[0]\n",
    "mc_stdev = mc_var**.5\n",
    "fg_var = user_reviews_var[0]\n",
    "fg_stdev = fg_var**.5\n",
    "id_var = user_reviews_var[0]\n",
    "id_stdev = id_var**.5\n",
    "print(rt_var)\n",
    "print(rt_stdev)"
   ]
  },
  {
   "cell_type": "code",
   "execution_count": 69,
   "metadata": {
    "collapsed": false
   },
   "outputs": [
    {
     "data": {
      "image/png": "[encoded data removed]",
      "text/plain": [
       "<matplotlib.figure.Figure at 0x52fa2b16a0>"
      ]
     },
     "metadata": {},
     "output_type": "display_data"
    }
   ],
   "source": [
    "## looking at the histogram of the user ratings over 4 sites\n",
    "\n",
    "column_list = ['RT_user_norm','Metacritic_user_nom','Fandango_Ratingvalue','IMDB_norm']\n",
    "\n",
    "fig = plt.figure(figsize=(4,8))\n",
    "\n",
    "ax1 = fig.add_subplot(3,1,1)\n",
    "ax2 = fig.add_subplot(3,1,2)\n",
    "ax3 = fig.add_subplot(3,1,3)\n",
    "\n",
    "\n",
    "ax1.set_xlim(0,5.0)\n",
    "ax2.set_xlim(0,5.0)\n",
    "ax3.set_xlim(0,5.0)\n",
    "\n",
    "ax1.scatter(movie_reviews['Fandango_Ratingvalue'],movie_reviews['RT_user_norm'])\n",
    "ax2.scatter(movie_reviews['Fandango_Ratingvalue'],movie_reviews['Metacritic_user_nom'])\n",
    "ax3.scatter(movie_reviews['Fandango_Ratingvalue'],movie_reviews['IMDB_norm'])\n",
    "\n",
    "plt.show()"
   ]
  },
  {
   "cell_type": "code",
   "execution_count": 67,
   "metadata": {
    "collapsed": false
   },
   "outputs": [
    {
     "name": "stdout",
     "output_type": "stream",
     "text": [
      "0.362162225558\n",
      "0.127100769375\n",
      "0.143718802777\n"
     ]
    }
   ],
   "source": [
    "# calculate covariance\n",
    "\n",
    "def calc_mean(series):\n",
    "    vals = series.values\n",
    "    mean = sum(vals) / len(vals)\n",
    "    return mean\n",
    "\n",
    "def covariance(col1, col2):\n",
    "    mean1 = col1.mean()\n",
    "    mean2 = col2.mean()\n",
    "    return sum([(x - mean1)*(y - mean2)for x,y in zip(col1,col2)])/len(col1) \n",
    "\n",
    "rt_fg_covar = covariance(movie_reviews['RT_user_norm'],movie_reviews['Fandango_Ratingvalue'])\n",
    "mc_fg_covar = covariance(movie_reviews['Metacritic_user_nom'],movie_reviews['Fandango_Ratingvalue'])\n",
    "id_fg_covar = covariance(movie_reviews['IMDB_norm'],movie_reviews['Fandango_Ratingvalue'])\n",
    "\n",
    "print(rt_fg_covar)\n",
    "print(mc_fg_covar)\n",
    "print(id_fg_covar)"
   ]
  },
  {
   "cell_type": "code",
   "execution_count": 70,
   "metadata": {
    "collapsed": false
   },
   "outputs": [
    {
     "name": "stdout",
     "output_type": "stream",
     "text": [
      "0.724328994249\n",
      "0.336945314265\n",
      "0.600354177263\n"
     ]
    }
   ],
   "source": [
    "# Calculate Correlation\n",
    "\n",
    "def calc_mean(series):\n",
    "    vals = series.values\n",
    "    mean = sum(vals) / len(vals)\n",
    "    return mean\n",
    "\n",
    "def calc_variance(series):\n",
    "    mean = calc_mean(series)\n",
    "    squared_deviations = (series - mean)**2\n",
    "    mean_squared_deviations = calc_mean(squared_deviations)\n",
    "    return mean_squared_deviations\n",
    "\n",
    "def calc_covariance(series_one, series_two):\n",
    "    x = series_one.values\n",
    "    y = series_two.values\n",
    "    x_mean = calc_mean(series_one)\n",
    "    y_mean = calc_mean(series_two)\n",
    "    x_diffs = [i - x_mean for i in x]\n",
    "    y_diffs = [i - y_mean for i in y]\n",
    "    codeviates = [x_diffs[i] * y_diffs[i] for i in range(len(x))]\n",
    "    return sum(codeviates) / len(codeviates)\n",
    "\n",
    "def calc_correlation(series_one, series_two):\n",
    "    cov = calc_covariance(series_one,series_two)\n",
    "    var = (calc_variance(series_one)*calc_variance(series_two))**(1/2)\n",
    "    return cov/var\n",
    "\n",
    "rt_fg_covar = calc_covariance(movie_reviews[\"RT_user_norm\"], movie_reviews[\"Fandango_Ratingvalue\"])\n",
    "mc_fg_covar = calc_covariance(movie_reviews[\"Metacritic_user_nom\"], movie_reviews[\"Fandango_Ratingvalue\"])\n",
    "id_fg_covar = calc_covariance(movie_reviews[\"IMDB_norm\"], movie_reviews[\"Fandango_Ratingvalue\"])\n",
    "\n",
    "rt_fg_corr = calc_correlation(movie_reviews[\"RT_user_norm\"], movie_reviews[\"Fandango_Ratingvalue\"])\n",
    "mc_fg_corr = calc_correlation(movie_reviews[\"Metacritic_user_nom\"], movie_reviews[\"Fandango_Ratingvalue\"])\n",
    "id_fg_corr = calc_correlation(movie_reviews[\"IMDB_norm\"], movie_reviews[\"Fandango_Ratingvalue\"])\n",
    "\n",
    "print(rt_fg_corr)\n",
    "print(mc_fg_corr)\n",
    "print(id_fg_corr)"
   ]
  }
 ],
 "metadata": {
  "kernelspec": {
   "display_name": "Python 3",
   "language": "python",
   "name": "python3"
  },
  "language_info": {
   "codemirror_mode": {
    "name": "ipython",
    "version": 3
   },
   "file_extension": ".py",
   "mimetype": "text/x-python",
   "name": "python",
   "nbconvert_exporter": "python",
   "pygments_lexer": "ipython3",
   "version": "3.6.0"
  }
 },
 "nbformat": 4,
 "nbformat_minor": 2
}
