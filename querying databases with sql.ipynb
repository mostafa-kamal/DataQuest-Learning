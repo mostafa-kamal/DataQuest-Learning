{
 "cells": [
  {
   "cell_type": "markdown",
   "metadata": {},
   "source": [
    "## SQL Query\n",
    "\n",
    "###### To filter rows by specific criteria, we need to use the WHERE statement. The WHERE statement requires three things:\n",
    "\n",
    "* The column we want the database to filter on: ShareWomen\n",
    "* A comparison operator that specifies how we want to compare a value in a column: >\n",
    "* The value we want the database to compare each value to: 0.5 \n",
    "\n",
    "###### LIMIT - Limiting the Number of Results\n",
    "> SELECT Major FROM recent_grads LIMIT 5;\n",
    "\n",
    "###### SQL's comparison operators\n",
    "\n",
    "\n",
    "* Less than: <\n",
    "* Less than or equal to: <=\n",
    "* Greater than: >\n",
    "* Greater than or equal to: >=\n",
    "* Equal to: =\n",
    "* Not equal to: !=\n",
    "\n",
    "###### Logical operators\n",
    "\n",
    "\n",
    "* __OR__ (returns either Condition1 or Condition2)\n",
    "* __AND__ (returns both Condition1 and Condition2)\n",
    "\n",
    "###### Grouping Operators With Parentheses\n",
    "\n",
    "> select Major, Major_category, ShareWomen, Unemployment_rate  \n",
    "> from recent_grads  \n",
    "> where (Major_category = 'Engineering') and (ShareWomen > 0.5 or Unemployment_rate < 0.051);\n"
   ]
  },
  {
   "cell_type": "markdown",
   "metadata": {},
   "source": [
    "###### Connecting to the database\n",
    "> __connect()__  \n",
    "\n",
    "__Cursor Class__ is used for:\n",
    "\n",
    "> Run a query against the database  \n",
    "> Parse the results from the database  \n",
    "> Convert the results to native Python objects  \n",
    "> Store the results within the Cursor instance as a local variable  \n",
    "\n",
    "* A __tuple__ is a core data structure that Python uses to represent a sequence of values, similar to a list. Unlike lists, tuples are immutable, which means we can't modify existing ones.  \n",
    "\n",
    "Creating an empty tuple:\n",
    "> t = ()\n",
    "\n",
    "* Tuples are faster than lists, so they're helpful with larger databases and larger results sets. \n",
    "\n",
    "* Connection instance method __cursor()__ is used to return a Cursor instance corresponding to the database we want to query\n",
    "\n",
    "> cursor = conn.__cursor()__\n",
    "\n",
    "* SQLite library actually allows us to skip creating a Cursor altogether by using the __execute__ method within the __Connection__ object itself. SQLite will create a __Cursor__ instance for us under the hood and our query run against the database, but this shortcut allows us to skip a step\n",
    "\n",
    "> conn.__execute__(query).fetchall()\n",
    "\n",
    "* Fetching Results - \n",
    "\n",
    "> __fetchall__ -- returns all results  \n",
    "> __fetchmany(n)__ -- returns n results specified by the parameter n  \n",
    "> __fetchone__ -- returns one result at a time, behind the hood cursor will keep track of fetched result and will give us  a new row each time we call the function  \n",
    "\n",
    "* closing connection\n",
    "\n",
    "> important to close connection as open connections restrits access to the database  \n",
    "> SQLite will save any changes made into the database during this time  "
   ]
  },
  {
   "cell_type": "code",
   "execution_count": 2,
   "metadata": {
    "collapsed": false
   },
   "outputs": [],
   "source": [
    "import sqlite3\n",
    "conn = sqlite3.connect('test.db')"
   ]
  },
  {
   "cell_type": "code",
   "execution_count": 1,
   "metadata": {
    "collapsed": false
   },
   "outputs": [
    {
     "data": {
      "text/html": [
       "<div>\n",
       "<table border=\"1\" class=\"dataframe\">\n",
       "  <thead>\n",
       "    <tr style=\"text-align: right;\">\n",
       "      <th></th>\n",
       "      <th>Rank</th>\n",
       "      <th>Major_code</th>\n",
       "      <th>Major</th>\n",
       "      <th>Major_category</th>\n",
       "      <th>Total</th>\n",
       "      <th>Sample_size</th>\n",
       "      <th>Men</th>\n",
       "      <th>Women</th>\n",
       "      <th>ShareWomen</th>\n",
       "      <th>Employed</th>\n",
       "      <th>...</th>\n",
       "      <th>Part_time</th>\n",
       "      <th>Full_time_year_round</th>\n",
       "      <th>Unemployed</th>\n",
       "      <th>Unemployment_rate</th>\n",
       "      <th>Median</th>\n",
       "      <th>P25th</th>\n",
       "      <th>P75th</th>\n",
       "      <th>College_jobs</th>\n",
       "      <th>Non_college_jobs</th>\n",
       "      <th>Low_wage_jobs</th>\n",
       "    </tr>\n",
       "  </thead>\n",
       "  <tbody>\n",
       "    <tr>\n",
       "      <th>0</th>\n",
       "      <td>1</td>\n",
       "      <td>2419</td>\n",
       "      <td>PETROLEUM ENGINEERING</td>\n",
       "      <td>Engineering</td>\n",
       "      <td>2339</td>\n",
       "      <td>36</td>\n",
       "      <td>2057</td>\n",
       "      <td>282</td>\n",
       "      <td>0.120564</td>\n",
       "      <td>1976</td>\n",
       "      <td>...</td>\n",
       "      <td>270</td>\n",
       "      <td>1207</td>\n",
       "      <td>37</td>\n",
       "      <td>0.018381</td>\n",
       "      <td>110000</td>\n",
       "      <td>95000</td>\n",
       "      <td>125000</td>\n",
       "      <td>1534</td>\n",
       "      <td>364</td>\n",
       "      <td>193</td>\n",
       "    </tr>\n",
       "  </tbody>\n",
       "</table>\n",
       "<p>1 rows × 21 columns</p>\n",
       "</div>"
      ],
      "text/plain": [
       "   Rank  Major_code                  Major Major_category  Total  Sample_size  \\\n",
       "0     1        2419  PETROLEUM ENGINEERING    Engineering   2339           36   \n",
       "\n",
       "    Men  Women  ShareWomen  Employed      ...        Part_time  \\\n",
       "0  2057    282    0.120564      1976      ...              270   \n",
       "\n",
       "   Full_time_year_round  Unemployed  Unemployment_rate  Median  P25th   P75th  \\\n",
       "0                  1207          37           0.018381  110000  95000  125000   \n",
       "\n",
       "   College_jobs  Non_college_jobs  Low_wage_jobs  \n",
       "0          1534               364            193  \n",
       "\n",
       "[1 rows x 21 columns]"
      ]
     },
     "execution_count": 1,
     "metadata": {},
     "output_type": "execute_result"
    }
   ],
   "source": [
    "import pandas as pd\n",
    "recent_grads = pd.read_csv('/media/mostafa/Study/DQ/data/college-majors/recent-grads.csv')\n",
    "recent_grads[:1]\n"
   ]
  },
  {
   "cell_type": "code",
   "execution_count": 3,
   "metadata": {
    "collapsed": true
   },
   "outputs": [],
   "source": [
    "cursor = conn.cursor()\n",
    "recent_grads.to_sql('recent_grads',conn)"
   ]
  },
  {
   "cell_type": "code",
   "execution_count": 15,
   "metadata": {
    "collapsed": false
   },
   "outputs": [
    {
     "data": {
      "text/plain": [
       "[(1, 'PETROLEUM ENGINEERING'),\n",
       " (2, 'MINING AND MINERAL ENGINEERING'),\n",
       " (3, 'METALLURGICAL ENGINEERING'),\n",
       " (4, 'NAVAL ARCHITECTURE AND MARINE ENGINEERING'),\n",
       " (5, 'CHEMICAL ENGINEERING')]"
      ]
     },
     "execution_count": 15,
     "metadata": {},
     "output_type": "execute_result"
    }
   ],
   "source": [
    "query = 'select distinct rank,major from recent_grads;'\n",
    "cursor.execute(query)\n",
    "result = cursor.fetchall()\n",
    "result[:5]"
   ]
  },
  {
   "cell_type": "code",
   "execution_count": 17,
   "metadata": {
    "collapsed": false
   },
   "outputs": [
    {
     "data": {
      "text/plain": [
       "[(1, 'PETROLEUM ENGINEERING'),\n",
       " (2, 'MINING AND MINERAL ENGINEERING'),\n",
       " (3, 'METALLURGICAL ENGINEERING'),\n",
       " (4, 'NAVAL ARCHITECTURE AND MARINE ENGINEERING'),\n",
       " (5, 'CHEMICAL ENGINEERING')]"
      ]
     },
     "execution_count": 17,
     "metadata": {},
     "output_type": "execute_result"
    }
   ],
   "source": [
    "query = 'select distinct rank,major from recent_grads;'\n",
    "result = conn.execute(query).fetchall()\n",
    "result[:5]"
   ]
  },
  {
   "cell_type": "code",
   "execution_count": 3,
   "metadata": {
    "collapsed": true
   },
   "outputs": [],
   "source": [
    "conn.close()"
   ]
  },
  {
   "cell_type": "code",
   "execution_count": 19,
   "metadata": {
    "collapsed": false
   },
   "outputs": [
    {
     "ename": "ProgrammingError",
     "evalue": "Cannot operate on a closed database.",
     "output_type": "error",
     "traceback": [
      "\u001b[0;31m---------------------------------------------------------------------------\u001b[0m",
      "\u001b[0;31mProgrammingError\u001b[0m                          Traceback (most recent call last)",
      "\u001b[0;32m<ipython-input-19-0402d8fa3392>\u001b[0m in \u001b[0;36m<module>\u001b[0;34m()\u001b[0m\n\u001b[0;32m----> 1\u001b[0;31m \u001b[0mconn\u001b[0m\u001b[0;34m.\u001b[0m\u001b[0mexecute\u001b[0m\u001b[0;34m(\u001b[0m\u001b[0;34m'select * from recent_grads limit 2;'\u001b[0m\u001b[0;34m)\u001b[0m\u001b[0;34m\u001b[0m\u001b[0m\n\u001b[0m",
      "\u001b[0;31mProgrammingError\u001b[0m: Cannot operate on a closed database."
     ]
    }
   ],
   "source": [
    "conn.execute('select * from recent_grads limit 2;')"
   ]
  },
  {
   "cell_type": "code",
   "execution_count": 2,
   "metadata": {
    "collapsed": false
   },
   "outputs": [
    {
     "data": {
      "text/plain": [
       "[(1,\n",
       "  'af',\n",
       "  'Afghanistan',\n",
       "  652230,\n",
       "  652230,\n",
       "  0,\n",
       "  32564342,\n",
       "  2.32,\n",
       "  38.57,\n",
       "  13.89,\n",
       "  1.51,\n",
       "  '2015-11-01 13:19:49.461734',\n",
       "  '2015-11-01 13:19:49.461734')]"
      ]
     },
     "execution_count": 2,
     "metadata": {},
     "output_type": "execute_result"
    }
   ],
   "source": [
    "import sqlite3\n",
    "conn = sqlite3.connect('factbook.db')\n",
    "query = 'select * from facts limit 1;'\n",
    "facts = conn.execute(query).fetchall()\n",
    "facts"
   ]
  },
  {
   "cell_type": "code",
   "execution_count": 10,
   "metadata": {
    "collapsed": false
   },
   "outputs": [
    {
     "name": "stdout",
     "output_type": "stream",
     "text": [
      "0    5.051889e+12\n",
      "Name: population, dtype: float64\n"
     ]
    },
    {
     "data": {
      "text/html": [
       "<div>\n",
       "<table border=\"1\" class=\"dataframe\">\n",
       "  <thead>\n",
       "    <tr style=\"text-align: right;\">\n",
       "      <th></th>\n",
       "      <th>id</th>\n",
       "      <th>code</th>\n",
       "      <th>name</th>\n",
       "      <th>area</th>\n",
       "      <th>area_land</th>\n",
       "      <th>area_water</th>\n",
       "      <th>population</th>\n",
       "      <th>population_growth</th>\n",
       "      <th>birth_rate</th>\n",
       "      <th>death_rate</th>\n",
       "      <th>migration_rate</th>\n",
       "      <th>created_at</th>\n",
       "      <th>updated_at</th>\n",
       "    </tr>\n",
       "  </thead>\n",
       "  <tbody>\n",
       "    <tr>\n",
       "      <th>0</th>\n",
       "      <td>1</td>\n",
       "      <td>af</td>\n",
       "      <td>Afghanistan</td>\n",
       "      <td>652230.0</td>\n",
       "      <td>652230.0</td>\n",
       "      <td>0.0</td>\n",
       "      <td>32564342.0</td>\n",
       "      <td>2.32</td>\n",
       "      <td>38.57</td>\n",
       "      <td>13.89</td>\n",
       "      <td>1.51</td>\n",
       "      <td>2015-11-01 13:19:49.461734</td>\n",
       "      <td>2015-11-01 13:19:49.461734</td>\n",
       "    </tr>\n",
       "  </tbody>\n",
       "</table>\n",
       "</div>"
      ],
      "text/plain": [
       "   id code         name      area  area_land  area_water  population  \\\n",
       "0   1   af  Afghanistan  652230.0   652230.0         0.0  32564342.0   \n",
       "\n",
       "   population_growth  birth_rate  death_rate  migration_rate  \\\n",
       "0               2.32       38.57       13.89            1.51   \n",
       "\n",
       "                   created_at                  updated_at  \n",
       "0  2015-11-01 13:19:49.461734  2015-11-01 13:19:49.461734  "
      ]
     },
     "execution_count": 10,
     "metadata": {},
     "output_type": "execute_result"
    }
   ],
   "source": [
    "import math\n",
    "import pandas as pd\n",
    "# reading data into pandas datafram\n",
    "query = 'select * from facts;'\n",
    "facts = pd.read_sql_query(query,conn)\n",
    "facts.shape\n",
    "\n",
    "# filtering out data,dropping nulls on the column area land\n",
    "facts = facts.dropna(subset=['area_land','population','population_growth'])\n",
    "# filtering out data, discarding 0 on area land\n",
    "facts = facts[(facts['area_land'] != 0) & (facts['population'] != 0) & (facts['population_growth'] != 0)]\n",
    "\n",
    "pop = facts['population'][:1]\n",
    "growth = facts['population_growth'][:1]\n",
    "print(pop*math.pow(growth*35,math.e))\n",
    "\n",
    "facts[:1]"
   ]
  },
  {
   "cell_type": "code",
   "execution_count": 9,
   "metadata": {
    "collapsed": false
   },
   "outputs": [
    {
     "name": "stdout",
     "output_type": "stream",
     "text": [
      "0    8.851906e+07\n",
      "Name: population, dtype: float64\n"
     ]
    }
   ],
   "source": [
    "print(math.e*pop)"
   ]
  },
  {
   "cell_type": "code",
   "execution_count": 1,
   "metadata": {
    "collapsed": false
   },
   "outputs": [
    {
     "ename": "NameError",
     "evalue": "name 'conn' is not defined",
     "output_type": "error",
     "traceback": [
      "\u001b[0;31m---------------------------------------------------------------------------\u001b[0m",
      "\u001b[0;31mNameError\u001b[0m                                 Traceback (most recent call last)",
      "\u001b[0;32m<ipython-input-1-50713d6c3d00>\u001b[0m in \u001b[0;36m<module>\u001b[0;34m()\u001b[0m\n\u001b[1;32m      3\u001b[0m \u001b[0;31m# reading data into pandas datafram\u001b[0m\u001b[0;34m\u001b[0m\u001b[0;34m\u001b[0m\u001b[0m\n\u001b[1;32m      4\u001b[0m \u001b[0mquery\u001b[0m \u001b[0;34m=\u001b[0m \u001b[0;34m'select * from facts;'\u001b[0m\u001b[0;34m\u001b[0m\u001b[0m\n\u001b[0;32m----> 5\u001b[0;31m \u001b[0mfacts\u001b[0m \u001b[0;34m=\u001b[0m \u001b[0mpd\u001b[0m\u001b[0;34m.\u001b[0m\u001b[0mread_sql_query\u001b[0m\u001b[0;34m(\u001b[0m\u001b[0mquery\u001b[0m\u001b[0;34m,\u001b[0m\u001b[0mconn\u001b[0m\u001b[0;34m)\u001b[0m\u001b[0;34m\u001b[0m\u001b[0m\n\u001b[0m\u001b[1;32m      6\u001b[0m \u001b[0mfacts\u001b[0m\u001b[0;34m.\u001b[0m\u001b[0mshape\u001b[0m\u001b[0;34m\u001b[0m\u001b[0m\n\u001b[1;32m      7\u001b[0m \u001b[0;34m\u001b[0m\u001b[0m\n",
      "\u001b[0;31mNameError\u001b[0m: name 'conn' is not defined"
     ]
    }
   ],
   "source": [
    "import math\n",
    "import pandas as pd\n",
    "# reading data into pandas datafram\n",
    "query = 'select * from facts;'\n",
    "facts = pd.read_sql_query(query,conn)\n",
    "facts.shape\n",
    "\n",
    "# filtering out data,dropping nulls on the column area land\n",
    "facts = facts.dropna(subset=['area_land','population','population_growth'])\n",
    "# filtering out data, discarding 0 on area land\n",
    "facts = facts[(facts['area_land'] != 0) & (facts['population'] != 0) & (facts['population_growth'] != 0)]\n",
    "facts.shape\n",
    "\n",
    "#project population of future year\n",
    "def project_population(initial_population, population_growth):\n",
    "    return  int(initial_population * math.pow(population_growth * 35,math.e))\n",
    "\n",
    "facts['population_2050'] = facts.apply(lambda x: project_population(x['population'],x['population_growth']),axis=1)\n",
    "facts = facts.sort_values('population_2050',ascending=0)\n",
    "print(facts[:10])\n"
   ]
  },
  {
   "cell_type": "code",
   "execution_count": 16,
   "metadata": {
    "collapsed": false
   },
   "outputs": [
    {
     "data": {
      "text/plain": [
       "228"
      ]
     },
     "execution_count": 16,
     "metadata": {},
     "output_type": "execute_result"
    }
   ],
   "source": [
    "query = 'select count(birth_rate) from facts;'\n",
    "birth_rate_count = conn.execute(query).fetchall()[0][0]\n",
    "birth_rate_count\n"
   ]
  },
  {
   "cell_type": "code",
   "execution_count": 13,
   "metadata": {
    "collapsed": false
   },
   "outputs": [
    {
     "data": {
      "text/plain": [
       "1"
      ]
     },
     "execution_count": 13,
     "metadata": {},
     "output_type": "execute_result"
    }
   ],
   "source": [
    "len(facts)"
   ]
  }
 ],
 "metadata": {
  "kernelspec": {
   "display_name": "Python 3",
   "language": "python",
   "name": "python3"
  },
  "language_info": {
   "codemirror_mode": {
    "name": "ipython",
    "version": 3
   },
   "file_extension": ".py",
   "mimetype": "text/x-python",
   "name": "python",
   "nbconvert_exporter": "python",
   "pygments_lexer": "ipython3",
   "version": "3.6.0"
  }
 },
 "nbformat": 4,
 "nbformat_minor": 2
}
