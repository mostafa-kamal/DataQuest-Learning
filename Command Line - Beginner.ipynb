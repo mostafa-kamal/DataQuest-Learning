{
 "cells": [
  {
   "cell_type": "code",
   "execution_count": null,
   "metadata": {
    "collapsed": true
   },
   "outputs": [],
   "source": []
  },
  {
   "cell_type": "markdown",
   "metadata": {},
   "source": [
    "### Command Line Basics\n",
    "\n",
    "* __pwd__   -- returns the current directory (folder you're located in)\n",
    "* __cd /__  -- to switch to the root directory\n",
    "* __whoami__ -- check username\n",
    "* __cd ~__ -- to switch back to the home directory\n",
    "* __mkdir__ -- to create a directory\n",
    "* __mkdir -v__ -- to check out the verbose option\n",
    "* __ls -l__ -- see the contents of the directory in tabular format\n",
    "* __rmdir__ -- to remove directory\n",
    "\n",
    "## Working with Files\n",
    "\n",
    "* __touch__ -- create a file\n",
    "* __rm__ -- remove a file\n",
    "* __echo__ -- write something\n",
    "* __>__ -- write to a file\n",
    "* __nano__ -- command line text editor\n",
    "* __stat__ -- file information details, useful to note down permission details\n",
    "* __octa_notation__ -- Octa Notation\n",
    "    > **---** : No permissions; corresponds to **0**  \n",
    "    > **--x** : Execute only permission; corresponds to **1**  \n",
    "    > **-w-** : Write only permissions; corresponds to **2**  \n",
    "    > **-wx** : Write and execute permissions; corresponds to **3**  \n",
    "    > **r--** : Read only permissions; corresponds to **4**  \n",
    "    > **r-x** : Read and execute permissions; corresponds to **5**  \n",
    "    > **rw-** : Read and write permissions; corresponds to **6**  \n",
    "    > **rwx** : Read, write, and execute permissions; corresponds to **7**  \n",
    "* **chmod** - modify file permissions\n",
    "* **mv** - move file\n",
    "    > specify full path to rename file \n",
    "* **cp** - copy file\n",
    "\n",
    "## working with programs\n",
    "\n",
    "* **variable** -- Declaring variable is same with few exceptions.\n",
    "    > important to avoid adding stray spaces around the equals sign  \n",
    "* __echo $$var__  -- print variable - only use one dollar sign\n",
    "* __export__ -- create environment variable\n",
    "* __os.environ__ -- accessing environment variable from python\n",
    "* access any program by typing its full path, for example, **/usr/bin/python**\n",
    "* echo \\$$PATH to see what folders are in PATH\n",
    "* combining flages, for example, **ls -al --ignore**\n",
    "\n",
    "## Command Line Python Scripting\n",
    "\n",
    "* **python3 scrpit.py** -- to run the script in python 3 if default is python2\n"
   ]
  },
  {
   "cell_type": "code",
   "execution_count": null,
   "metadata": {
    "collapsed": true
   },
   "outputs": [],
   "source": []
  }
 ],
 "metadata": {
  "kernelspec": {
   "display_name": "Python 3",
   "language": "python",
   "name": "python3"
  },
  "language_info": {
   "codemirror_mode": {
    "name": "ipython",
    "version": 3
   },
   "file_extension": ".py",
   "mimetype": "text/x-python",
   "name": "python",
   "nbconvert_exporter": "python",
   "pygments_lexer": "ipython3",
   "version": "3.6.0"
  }
 },
 "nbformat": 4,
 "nbformat_minor": 2
}
