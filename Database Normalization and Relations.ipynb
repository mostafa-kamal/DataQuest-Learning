{
 "cells": [
  {
   "cell_type": "code",
   "execution_count": 1,
   "metadata": {
    "collapsed": false
   },
   "outputs": [
    {
     "data": {
      "text/plain": [
       "[(0, 2000, 'Billy Crystal'),\n",
       " (1, 2001, 'Steve Martin'),\n",
       " (2, 2002, 'Whoopi Goldberg'),\n",
       " (3, 2003, 'Steve Martin'),\n",
       " (4, 2004, 'Billy Crystal'),\n",
       " (5, 2005, 'Chris Rock'),\n",
       " (6, 2006, 'Jon Stewart'),\n",
       " (7, 2007, 'Ellen DeGeneres'),\n",
       " (8, 2008, 'Jon Stewart'),\n",
       " (9, 2009, 'Hugh Jackman')]"
      ]
     },
     "execution_count": 1,
     "metadata": {},
     "output_type": "execute_result"
    }
   ],
   "source": [
    "import sqlite3\n",
    "conn = sqlite3.connect('academy_awards.db')\n",
    "query1 = 'select * from ceremonies limit 10;'\n",
    "ceremonies = conn.execute(query1).fetchall()\n",
    "ceremonies"
   ]
  },
  {
   "cell_type": "code",
   "execution_count": 3,
   "metadata": {
    "collapsed": false
   },
   "outputs": [
    {
     "data": {
      "text/plain": [
       "[(1, 10, 'Actor -- Leading Role', 'Javier Bardem', 'Biutiful', 'Uxbal', 0),\n",
       " (2,\n",
       "  10,\n",
       "  'Actor -- Leading Role',\n",
       "  'Jeff Bridges',\n",
       "  'True Grit',\n",
       "  'Rooster Cogburn',\n",
       "  0)]"
      ]
     },
     "execution_count": 3,
     "metadata": {},
     "output_type": "execute_result"
    }
   ],
   "source": [
    "query2 = 'select * from nominations limit 2;'\n",
    "nominations = conn.execute(query2).fetchall()\n",
    "nominations"
   ]
  },
  {
   "cell_type": "code",
   "execution_count": 4,
   "metadata": {
    "collapsed": false
   },
   "outputs": [
    {
     "name": "stdout",
     "output_type": "stream",
     "text": [
      "[(2010, 'Black Swan'), (2004, 'Closer')]\n"
     ]
    }
   ],
   "source": [
    "query = 'select ceremonies.year, nominations.movie from ceremonies inner join nominations on nominations.ceremony_id == ceremonies.id where nominee = \"Natalie Portman\";'\n",
    "portman_movies = conn.execute(query).fetchall()\n",
    "print(portman_movies)"
   ]
  },
  {
   "cell_type": "code",
   "execution_count": 6,
   "metadata": {
    "collapsed": false
   },
   "outputs": [
    {
     "data": {
      "text/plain": [
       "<sqlite3.Cursor at 0x7f9dd42b2810>"
      ]
     },
     "execution_count": 6,
     "metadata": {},
     "output_type": "execute_result"
    }
   ],
   "source": [
    "nom_2_query = \"create table nominations_two(id integer PRIMARY KEY,category text, nominee text, movie text, character text, won integer, ceremony_id REFERENCES ceremonies(id));\"\n",
    "conn.execute(nom_2_query)"
   ]
  }
 ],
 "metadata": {
  "kernelspec": {
   "display_name": "Python 3",
   "language": "python",
   "name": "python3"
  },
  "language_info": {
   "codemirror_mode": {
    "name": "ipython",
    "version": 3
   },
   "file_extension": ".py",
   "mimetype": "text/x-python",
   "name": "python",
   "nbconvert_exporter": "python",
   "pygments_lexer": "ipython3",
   "version": "3.6.0"
  }
 },
 "nbformat": 4,
 "nbformat_minor": 2
}
